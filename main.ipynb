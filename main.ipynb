{
 "cells": [
  {
   "cell_type": "code",
   "execution_count": 1,
   "metadata": {},
   "outputs": [
    {
     "name": "stdout",
     "output_type": "stream",
     "text": [
      "Collecting diagrams\n",
      "  Downloading diagrams-0.23.4-py3-none-any.whl.metadata (7.0 kB)\n",
      "Collecting graphviz<0.21.0,>=0.13.2 (from diagrams)\n",
      "  Downloading graphviz-0.20.3-py3-none-any.whl.metadata (12 kB)\n",
      "Collecting jinja2<4.0,>=2.10 (from diagrams)\n",
      "  Using cached jinja2-3.1.4-py3-none-any.whl.metadata (2.6 kB)\n",
      "Collecting typed-ast<2.0.0,>=1.5.4 (from diagrams)\n",
      "  Downloading typed_ast-1.5.5-cp310-cp310-macosx_11_0_arm64.whl.metadata (1.7 kB)\n",
      "Collecting MarkupSafe>=2.0 (from jinja2<4.0,>=2.10->diagrams)\n",
      "  Downloading MarkupSafe-2.1.5-cp310-cp310-macosx_10_9_universal2.whl.metadata (3.0 kB)\n",
      "Downloading diagrams-0.23.4-py3-none-any.whl (24.6 MB)\n",
      "\u001b[2K   \u001b[38;2;114;156;31m━━━━━━━━━━━━━━━━━━━━━━━━━━━━━━━━━━━━━━━━\u001b[0m \u001b[32m24.6/24.6 MB\u001b[0m \u001b[31m46.4 MB/s\u001b[0m eta \u001b[36m0:00:00\u001b[0m31m42.2 MB/s\u001b[0m eta \u001b[36m0:00:01\u001b[0m\n",
      "\u001b[?25hDownloading graphviz-0.20.3-py3-none-any.whl (47 kB)\n",
      "\u001b[2K   \u001b[38;2;114;156;31m━━━━━━━━━━━━━━━━━━━━━━━━━━━━━━━━━━━━━━━━\u001b[0m \u001b[32m47.1/47.1 kB\u001b[0m \u001b[31m5.0 MB/s\u001b[0m eta \u001b[36m0:00:00\u001b[0m\n",
      "\u001b[?25hUsing cached jinja2-3.1.4-py3-none-any.whl (133 kB)\n",
      "Downloading typed_ast-1.5.5-cp310-cp310-macosx_11_0_arm64.whl (208 kB)\n",
      "\u001b[2K   \u001b[38;2;114;156;31m━━━━━━━━━━━━━━━━━━━━━━━━━━━━━━━━━━━━━━━━\u001b[0m \u001b[32m208.3/208.3 kB\u001b[0m \u001b[31m16.1 MB/s\u001b[0m eta \u001b[36m0:00:00\u001b[0m\n",
      "\u001b[?25hDownloading MarkupSafe-2.1.5-cp310-cp310-macosx_10_9_universal2.whl (18 kB)\n",
      "Installing collected packages: typed-ast, MarkupSafe, graphviz, jinja2, diagrams\n",
      "Successfully installed MarkupSafe-2.1.5 diagrams-0.23.4 graphviz-0.20.3 jinja2-3.1.4 typed-ast-1.5.5\n",
      "Note: you may need to restart the kernel to use updated packages.\n"
     ]
    }
   ],
   "source": [
    "%pip install diagrams"
   ]
  },
  {
   "cell_type": "code",
   "execution_count": 4,
   "metadata": {},
   "outputs": [],
   "source": [
    "from diagrams import Diagram\n",
    "from diagrams.aws.compute import EC2\n",
    "from diagrams.aws.database import RDS\n",
    "from diagrams.aws.network import ELB\n",
    "\n",
    "with Diagram(\"Grouped Workers\", show=False, direction=\"TB\"):\n",
    "    ELB(\"lb\") >> [EC2(\"worker1\"),\n",
    "                  EC2(\"worker2\"),\n",
    "                  EC2(\"worker3\"),\n",
    "                  EC2(\"worker4\"),\n",
    "                  EC2(\"worker5\")] >> RDS(\"events\")"
   ]
  },
  {
   "cell_type": "code",
   "execution_count": 10,
   "metadata": {},
   "outputs": [],
   "source": [
    "from diagrams import Diagram, Cluster\n",
    "from diagrams.onprem.client import User\n",
    "from diagrams.onprem.network import Nginx\n",
    "from diagrams.programming.framework import React\n",
    "from diagrams.onprem.compute import Server\n",
    "from diagrams.programming.language import Go\n",
    "from diagrams.onprem.database import Postgresql\n",
    "# form diagrams.aws.compute import EC2\n",
    "\n",
    "with Diagram(\"E-commerce\", show=False):\n",
    "\n",
    "    with Cluster(\"Frontend\"):\n",
    "        User = User(\"user\")\n",
    "        React = React(\"React Web\")\n",
    "\n",
    "    with Cluster(\"Backend\"):\n",
    "        Postgresql = Postgresql(\"Postgresql\")\n",
    "        Go = Go(\"Go API\")\n",
    "\n",
    "    \n",
    "    User >> React >> Server(\"Swagger API\") >> Nginx(\"nginx\") >> Go >> Postgresql"
   ]
  }
 ],
 "metadata": {
  "kernelspec": {
   "display_name": "diagrams",
   "language": "python",
   "name": "python3"
  },
  "language_info": {
   "codemirror_mode": {
    "name": "ipython",
    "version": 3
   },
   "file_extension": ".py",
   "mimetype": "text/x-python",
   "name": "python",
   "nbconvert_exporter": "python",
   "pygments_lexer": "ipython3",
   "version": "3.10.0"
  }
 },
 "nbformat": 4,
 "nbformat_minor": 2
}
